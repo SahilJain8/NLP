{
 "cells": [
  {
   "cell_type": "code",
   "execution_count": 16,
   "id": "initial_id",
   "metadata": {
    "is_executing": true
   },
   "outputs": [],
   "source": [
    "import tensorflow as tf\n",
    "from tensorflow import keras\n",
    "from tensorflow.keras.preprocessing.text  import Tokenizer\n",
    "from tensorflow.keras.preprocessing.sequence import pad_sequences"
   ]
  },
  {
   "cell_type": "code",
   "execution_count": 3,
   "id": "6ee10a3f9b42fc33",
   "metadata": {
    "collapsed": false,
    "jupyter": {
     "outputs_hidden": false
    }
   },
   "outputs": [],
   "source": [
    "sentences = ['I love my dog',\n",
    "            'I love my cat']"
   ]
  },
  {
   "cell_type": "code",
   "execution_count": 5,
   "id": "959dc962-070e-4de3-9d48-daa8d2f76391",
   "metadata": {},
   "outputs": [],
   "source": [
    "tokenizer = Tokenizer(num_words=100,oov_token=\"<oov>\") #oov is out of vocabulary\n",
    "tokenizer.fit_on_texts(sentences)\n",
    "word_index = tokenizer.word_index"
   ]
  },
  {
   "cell_type": "code",
   "execution_count": 6,
   "id": "6723e47f-908c-4f7f-aae2-3b2bcb8037fa",
   "metadata": {},
   "outputs": [
    {
     "data": {
      "text/plain": [
       "{'i': 1, 'love': 2, 'my': 3, 'dog': 4, 'cat': 5}"
      ]
     },
     "execution_count": 6,
     "metadata": {},
     "output_type": "execute_result"
    }
   ],
   "source": [
    "word_index"
   ]
  },
  {
   "cell_type": "code",
   "execution_count": 20,
   "id": "c21d329c-0bcc-4063-9fec-bccd7a2eb966",
   "metadata": {},
   "outputs": [],
   "source": [
    "new_sentences = [\n",
    "    'I love my dog',\n",
    "    'i love my cat',\n",
    "    'You love my dog!',\n",
    "    'My dog is just amazing'\n",
    "    \n",
    "]"
   ]
  },
  {
   "cell_type": "code",
   "execution_count": 21,
   "id": "7112f404-0127-4f19-9fab-9da732c1cec6",
   "metadata": {},
   "outputs": [],
   "source": [
    "\n",
    "tokenizer.fit_on_texts(new_sentences)\n",
    "word_index_new = tokenizer.word_index"
   ]
  },
  {
   "cell_type": "code",
   "execution_count": 22,
   "id": "7299b46a-83a1-430e-a0d9-7849121622c7",
   "metadata": {},
   "outputs": [
    {
     "data": {
      "text/plain": [
       "{'my': 1,\n",
       " 'love': 2,\n",
       " 'i': 3,\n",
       " 'dog': 4,\n",
       " 'cat': 5,\n",
       " 'you': 6,\n",
       " 'is': 7,\n",
       " 'just': 8,\n",
       " 'amazing': 9}"
      ]
     },
     "execution_count": 22,
     "metadata": {},
     "output_type": "execute_result"
    }
   ],
   "source": [
    "word_index_new\n"
   ]
  },
  {
   "cell_type": "code",
   "execution_count": 23,
   "id": "f8e1e144-b5f9-4d12-9d56-8c737e322f10",
   "metadata": {},
   "outputs": [],
   "source": [
    "sequences  = tokenizer.texts_to_sequences(new_sentences)"
   ]
  },
  {
   "cell_type": "code",
   "execution_count": 24,
   "id": "62ecb4d3-84e7-4fad-acd1-f2e112f7e6e1",
   "metadata": {},
   "outputs": [
    {
     "data": {
      "text/plain": [
       "[[3, 2, 1, 4], [3, 2, 1, 5], [6, 2, 1, 4], [1, 4, 7, 8, 9]]"
      ]
     },
     "execution_count": 24,
     "metadata": {},
     "output_type": "execute_result"
    }
   ],
   "source": [
    "sequences"
   ]
  },
  {
   "cell_type": "code",
   "execution_count": 25,
   "id": "dbdbf3fc-5c2d-4244-b62d-1f9aec98fb06",
   "metadata": {},
   "outputs": [],
   "source": [
    "padded = pad_sequences(sequences )"
   ]
  },
  {
   "cell_type": "code",
   "execution_count": 26,
   "id": "71de0016-98ca-475f-bb00-7a1ee00a5ebd",
   "metadata": {},
   "outputs": [
    {
     "data": {
      "text/plain": [
       "array([[0, 3, 2, 1, 4],\n",
       "       [0, 3, 2, 1, 5],\n",
       "       [0, 6, 2, 1, 4],\n",
       "       [1, 4, 7, 8, 9]])"
      ]
     },
     "execution_count": 26,
     "metadata": {},
     "output_type": "execute_result"
    }
   ],
   "source": [
    "padded"
   ]
  },
  {
   "cell_type": "code",
   "execution_count": 27,
   "id": "3bbd7a8c-1f4a-42fa-b70d-a68410ce3b67",
   "metadata": {},
   "outputs": [],
   "source": [
    "new_padded = pad_sequences(sequences,padding='post') \n",
    "\n"
   ]
  },
  {
   "cell_type": "markdown",
   "id": "e12c55b3-e7ff-4889-910a-1f669748a16c",
   "metadata": {},
   "source": [
    "Other paramtrers the matrix length is same as the longest sentence in the list if we want to remove it we would give the parameter \"maxlen\" \n",
    "pad_sequence by deafult will remove words from the begining if the paramter maxlen is giving we can overide it by giving the command \"truncating=post\"\n"
   ]
  },
  {
   "cell_type": "code",
   "execution_count": 28,
   "id": "a4be4bae-0b54-458b-b084-db329a418602",
   "metadata": {},
   "outputs": [
    {
     "data": {
      "text/plain": [
       "array([[3, 2, 1, 4, 0],\n",
       "       [3, 2, 1, 5, 0],\n",
       "       [6, 2, 1, 4, 0],\n",
       "       [1, 4, 7, 8, 9]])"
      ]
     },
     "execution_count": 28,
     "metadata": {},
     "output_type": "execute_result"
    }
   ],
   "source": [
    "new_padded # the zeroes will be added at the end "
   ]
  },
  {
   "cell_type": "code",
   "execution_count": null,
   "id": "61d1b59d-d203-4e2d-a2b6-f7dc7feec1db",
   "metadata": {},
   "outputs": [],
   "source": []
  }
 ],
 "metadata": {
  "kernelspec": {
   "display_name": "Python 3 (ipykernel)",
   "language": "python",
   "name": "python3"
  },
  "language_info": {
   "codemirror_mode": {
    "name": "ipython",
    "version": 3
   },
   "file_extension": ".py",
   "mimetype": "text/x-python",
   "name": "python",
   "nbconvert_exporter": "python",
   "pygments_lexer": "ipython3",
   "version": "3.9.18"
  }
 },
 "nbformat": 4,
 "nbformat_minor": 5
}
